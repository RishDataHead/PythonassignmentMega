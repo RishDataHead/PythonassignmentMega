{
 "cells": [
  {
   "cell_type": "markdown",
   "metadata": {},
   "source": [
    "# Q1. Why do we call Python as a general purpose and high-level programming language?\n"
   ]
  },
  {
   "cell_type": "raw",
   "metadata": {},
   "source": [
    "Python is considered a general-purpose language because it can be used for a wide range of applications.\n",
    "\n",
    "It is called a high-level language because it abstracts away low-level details and provides a simplified syntax.\n",
    "\n",
    "Python's syntax is readable and resembles natural language, making it easy to understand and maintain.\n",
    "\n",
    "The language emphasizes code readability, simplicity, and conciseness.\n",
    "\n",
    "Python has a vast ecosystem of libraries and frameworks, covering various domains, which extend its capabilities.\n",
    "\n",
    "It is a cross-platform language, allowing programs to run on different operating systems without major modifications.\n",
    "\n",
    "These characteristics make Python a popular choice for a diverse set of applications, making it a general-purpose and high-level programming language."
   ]
  },
  {
   "cell_type": "markdown",
   "metadata": {},
   "source": [
    "# Q2. Why is Python called a dynamically typed language?"
   ]
  },
  {
   "cell_type": "markdown",
   "metadata": {},
   "source": [
    "Python does not require explicit type declarations for variables. For example x = 5 , x= \"Hello\"\n",
    "The type of a variable is determined dynamically based on the value assigned to it.\n",
    "Variables can hold values of different types during runtime.\n",
    "Python uses type inference to determine the type of a variable based on its assigned value.\n"
   ]
  },
  {
   "cell_type": "markdown",
   "metadata": {},
   "source": [
    "# Q3. List some pros and cons of Python programming language?"
   ]
  },
  {
   "cell_type": "markdown",
   "metadata": {},
   "source": [
    "Pros:\n",
    "\n",
    "Readability: Python has a clean and readable syntax, making it easier to write and understand code.\n",
    "Large Standard Library: Python comes with a comprehensive standard library, providing a wide range of modules and functions that can be used for various tasks without the need for external dependencies.\n",
    "Vast Ecosystem: Python has a rich ecosystem of third-party libraries and frameworks that cover a wide range of domains, enabling developers to leverage existing solutions and accelerate development.\n",
    "Easy Integration: Python allows seamless integration with other languages such as C/C++, Java, and .NET, making it suitable for building large-scale applications that require different components.\n",
    "Rapid Development: Python's simplicity and productivity-focused features, such as dynamic typing and automatic memory management, contribute to faster development cycles.\n",
    "Cross-Platform Compatibility: Python is available on multiple platforms, allowing developers to write code once and deploy it on different operating systems.\n",
    "\n",
    "Cons:\n",
    "\n",
    "Performance: Python is an interpreted language, which can make it slower compared to compiled languages like C or C++. However, performance-critical sections of code can be optimized using compiled extensions or by utilizing specialized libraries.\n",
    "Global Interpreter Lock (GIL): The GIL in CPython (the reference implementation of Python) can limit the execution of threads in parallel, which can impact the performance of CPU-bound multi-threaded applications. However, Python offers solutions such as multiprocessing and asynchronous programming to overcome this limitation.\n",
    "Mobile Development: While Python can be used for mobile app development, it is not as widely adopted as languages like Java or Swift in the mobile development space.\n",
    "Design Restrictions: Python's emphasis on readability and simplicity can lead to design restrictions and less control over low-level details compared to lower-level languages.\n",
    "Version Compatibility: The transition from Python 2 to Python 3 introduced some backward-incompatible changes, resulting in a split between the two versions. This can lead to compatibility issues when working with legacy code or libraries."
   ]
  },
  {
   "cell_type": "markdown",
   "metadata": {},
   "source": [
    "# Q4. In what all domains can we use Python?"
   ]
  },
  {
   "cell_type": "markdown",
   "metadata": {},
   "source": [
    "Python can be used in various domains, including:\n",
    "\n",
    "Web development\n",
    "Data analysis and visualization\n",
    "Scientific computing\n",
    "Machine learning and artificial intelligence\n",
    "Automation and scripting\n",
    "Game development\n",
    "Network programming and cybersecurity\n",
    "DevOps and system administration\n",
    "Natural language processing\n",
    "Robotics"
   ]
  },
  {
   "cell_type": "markdown",
   "metadata": {},
   "source": [
    "# Q5. What are variable and how can we declare them?"
   ]
  },
  {
   "cell_type": "markdown",
   "metadata": {},
   "source": [
    "A variable is a named storage location in a programming language that holds a value. It allows us to store and manipulate data during the execution of a program. In Python, variables can be declared and assigned values using the following syntax:\n",
    "\n",
    "x = 5 \n",
    " \n",
    "Declares a variable x with a value of 5 assigned to it"
   ]
  },
  {
   "cell_type": "markdown",
   "metadata": {},
   "source": [
    "# Q6. How can we take an input from the user in Python?"
   ]
  },
  {
   "cell_type": "code",
   "execution_count": 1,
   "metadata": {},
   "outputs": [
    {
     "name": "stdout",
     "output_type": "stream",
     "text": [
      "give input anything\n"
     ]
    }
   ],
   "source": [
    "#Input can be taken by using the input function in python.\n",
    "\n",
    "x = input(\"give input\")\n",
    "\n",
    "#any contrainst of variable type can also be applied here for example int(input) or float(input) etc"
   ]
  },
  {
   "cell_type": "markdown",
   "metadata": {},
   "source": [
    "# Q7. What is the default datatype of the value that has been taken as an input using input() function?"
   ]
  },
  {
   "cell_type": "markdown",
   "metadata": {},
   "source": [
    "The default datatype is String"
   ]
  },
  {
   "cell_type": "markdown",
   "metadata": {},
   "source": [
    "# Q8. What is type casting?"
   ]
  },
  {
   "cell_type": "markdown",
   "metadata": {},
   "source": [
    "Typecasting in Python refers to the process of converting the data type of a variable from one type to another. It allows you to change the interpretation or representation of the data.\n",
    "\n",
    "For example, you can convert an integer to a floating-point number, a string to an integer, or vice versa. Python provides built-in functions for typecasting, such as int(), float(), str(), bool(), and more.\n",
    "\n",
    "Typecasting is useful when you need to perform operations that require compatible data types or when you want to manipulate and represent data in a different format."
   ]
  },
  {
   "cell_type": "markdown",
   "metadata": {},
   "source": [
    "# Q9. Can we take more than one input from the user using single input() function? If yes, how? If no, why?"
   ]
  },
  {
   "cell_type": "markdown",
   "metadata": {},
   "source": [
    "No, the built-in input() function in Python allows you to take only a single input from the user at a time. It reads the input as a string until the user presses the Enter key."
   ]
  },
  {
   "cell_type": "markdown",
   "metadata": {},
   "source": [
    "# Q10. What are keywords?"
   ]
  },
  {
   "cell_type": "markdown",
   "metadata": {},
   "source": [
    "Keywords, also known as reserved words, are predefined words in a programming language that have special meanings and purposes. These words are reserved and cannot be used as identifiers (variable names, function names, etc.) because they are already assigned a specific meaning and functionality by the language itself.\n",
    "\n",
    "In Python, keywords are used to define the syntax and structure of the language and represent fundamental building blocks. They are used to declare control structures, define functions, handle exceptions, and perform other essential operations.\n",
    "\n",
    "Here are some examples of Python keywords:\n",
    "\n",
    "if, else, elif: Used for conditional statements\n",
    "for, while: Used for loop iterations\n",
    "def: Used to define functions\n",
    "try, except, finally: Used for exception handling\n",
    "import, from, as: Used for importing modules and packages\n",
    "return: Used to specify the return value of a function\n",
    "class: Used to define classes\n",
    "and, or, not: Used for logical operations\n",
    "True, False, None: Used for boolean and null values\n",
    "Python provides a fixed set of keywords, and their usage is predefined by the language. It's important to avoid using keywords as identifiers in your code to prevent conflicts and syntax errors."
   ]
  },
  {
   "cell_type": "markdown",
   "metadata": {},
   "source": [
    "# Q11. Can we use keywords as a variable? Support your answer with reason."
   ]
  },
  {
   "cell_type": "markdown",
   "metadata": {},
   "source": [
    "No, keywords cannot be used as variables in Python. Keywords are reserved by the language and have predefined meanings and functionality. They serve as building blocks and control structures in Python syntax.\n",
    "\n",
    "Attempting to use a keyword as a variable will result in a syntax error because the language expects certain behavior or functionality associated with keywords, and using them as variables would violate this expectation."
   ]
  },
  {
   "cell_type": "markdown",
   "metadata": {},
   "source": [
    "# Q12. What is indentation? What's the use of indentation in Python?"
   ]
  },
  {
   "cell_type": "markdown",
   "metadata": {},
   "source": [
    "Indentation refers to the whitespace (spaces or tabs) placed at the beginning of a line of code to indicate its level of indentation within a block or scope. In Python, indentation is not merely a matter of style; it is a fundamental aspect of the language's syntax and structure.\n",
    "The use of indentation in Python serves two main purposes:\n",
    "\n",
    "Code Block Delimiters: Indentation is used to define the beginning and end of code blocks, such as loops, conditional statements, and function definitions. It specifies the group of statements that belong together and should be executed as a unit. Blocks of code at the same level of indentation are considered part of the same block.\n",
    "\n",
    "Readability and Structure: Indentation improves the readability and structure of the code. By enforcing consistent and meaningful indentation, Python promotes code that is easier to understand, follow, and debug. Indentation helps in visualizing the hierarchical structure of the code and enhances code readability, especially for nested blocks."
   ]
  },
  {
   "cell_type": "markdown",
   "metadata": {},
   "source": [
    "# Q13. How can we throw some output in Python?"
   ]
  },
  {
   "cell_type": "markdown",
   "metadata": {},
   "source": [
    "We can get output in python by using the Print keyword.\n",
    "\n",
    "For example : Print(\"hello world\") will give output as\n",
    "hello world"
   ]
  },
  {
   "cell_type": "markdown",
   "metadata": {},
   "source": [
    "# Q14. What are operators in Python?"
   ]
  },
  {
   "cell_type": "markdown",
   "metadata": {},
   "source": [
    "In Python, operators are special symbols or characters that represent specific operations to manipulate or operate on operands (variables, values, or expressions). Operators allow you to perform various computations, comparisons, assignments, and logical operations in your code.\n",
    "\n",
    "Here are the main types of operators in Python:\n",
    "\n",
    "Arithmetic Operators: Perform mathematical calculations.\n",
    "\n",
    "Addition: +\n",
    "Subtraction: -\n",
    "Multiplication: *\n",
    "Division: /\n",
    "Floor Division: //\n",
    "Modulo: %\n",
    "Exponentiation: **\n",
    "Comparison Operators: Compare the values of operands.\n",
    "\n",
    "Equal to: ==\n",
    "Not equal to: !=\n",
    "Greater than: >\n",
    "Less than: <\n",
    "Greater than or equal to: >=\n",
    "Less than or equal to: <=\n",
    "Assignment Operators: Assign values to variables.\n",
    "\n",
    "Assignment: =\n",
    "Addition assignment: +=\n",
    "Subtraction assignment: -=\n",
    "Multiplication assignment: *=\n",
    "Division assignment: /=\n",
    "Modulo assignment: %=\n",
    "Exponentiation assignment: **=\n",
    "Floor division assignment: //=\n",
    "Logical Operators: Perform logical operations on boolean values.\n",
    "\n",
    "Logical AND: and\n",
    "Logical OR: or\n",
    "Logical NOT: not\n",
    "Bitwise Operators: Perform operations on binary representations of integers.\n",
    "\n",
    "Bitwise AND: &\n",
    "Bitwise OR: |\n",
    "Bitwise XOR: ^\n",
    "Bitwise NOT: ~\n",
    "Left shift: <<\n",
    "Right shift: >>\n",
    "Membership Operators: Check for membership in a sequence.\n",
    "\n",
    "in: Returns True if a value is found in a sequence.\n",
    "not in: Returns True if a value is not found in a sequence.\n",
    "Identity Operators: Compare the identity of objects.\n",
    "\n",
    "is: Returns True if two objects have the same identity.\n",
    "is not: Returns True if two objects have different identities.\n",
    "These are some of the commonly used operators in Python. Understanding and utilizing operators allows you to perform a wide range of operations and computations in your programs."
   ]
  },
  {
   "cell_type": "markdown",
   "metadata": {},
   "source": [
    "# Q15. What is difference between / and // operators?# "
   ]
  },
  {
   "cell_type": "markdown",
   "metadata": {},
   "source": [
    "/ performs normal division and always returns a floating-point result.\n",
    "// performs floor division and returns an integer result if both operands are integers.\n",
    "The // operator disregards the decimal part and rounds down to the nearest integer.\n",
    "It's important to consider the desired outcome and the data types of the operands when choosing between / and // for division operations in Python."
   ]
  },
  {
   "cell_type": "markdown",
   "metadata": {},
   "source": [
    "# Q16. Write a code that gives following as an output.\n",
    "iNeuroniNeuroniNeuroniNeuron"
   ]
  },
  {
   "cell_type": "code",
   "execution_count": 2,
   "metadata": {},
   "outputs": [
    {
     "name": "stdout",
     "output_type": "stream",
     "text": [
      "iNeuroniNeuroniNeuroniNeuron\n"
     ]
    }
   ],
   "source": [
    "print(\"iNeuroniNeuroniNeuroniNeuron\")"
   ]
  },
  {
   "cell_type": "markdown",
   "metadata": {},
   "source": [
    "# Q17. Write a code to take a number as an input from the user and check if the number is odd or even."
   ]
  },
  {
   "cell_type": "code",
   "execution_count": 5,
   "metadata": {},
   "outputs": [
    {
     "name": "stdout",
     "output_type": "stream",
     "text": [
      "Give number to check6\n",
      "Even number\n"
     ]
    }
   ],
   "source": [
    "num = int(input(\"Give number to check\"))\n",
    "if num%2 == 0:\n",
    "    print(\"Even number\")\n",
    "else:\n",
    "    print(\"Odd numer\")"
   ]
  },
  {
   "cell_type": "markdown",
   "metadata": {},
   "source": [
    "# Q18. What are boolean operator?"
   ]
  },
  {
   "cell_type": "markdown",
   "metadata": {},
   "source": [
    "    Boolean operators in Python are used to perform logical operations on Boolean values (True or False) or expressions. Python provides three main Boolean operators:\n",
    "\n",
    "Logical AND (and): Returns True if both operands are True, otherwise False.\n",
    "\n",
    "Example: True and True returns True, True and False returns False.\n",
    "Logical OR (or): Returns True if at least one of the operands is True, otherwise False.\n",
    "\n",
    "Example: True or False returns True, False or False returns False.\n",
    "Logical NOT (not): Returns the opposite of the operand's Boolean value. If the operand is True, not returns False. If the operand is False, not returns True.\n",
    "\n",
    "Example: not True returns False, not False returns True.\n",
    "These Boolean operators can be used to combine and evaluate Boolean expressions, control the flow of conditional statements, and perform logical operations in Python programs.\n",
    "\n",
    "Additionally, Python also allows the use of bitwise operators (&, |, ^, ~) that can operate on the binary representations of integers but can also be used as boolean operators when applied to boolean values or expressions. However, their behavior is slightly different from the logical operators mentioned above."
   ]
  },
  {
   "cell_type": "markdown",
   "metadata": {},
   "source": [
    "# Q19. What will the output of the following?\n",
    "1 or 0\n",
    "\n",
    "0 and 0\n",
    "\n",
    "True and False and True\n",
    "\n",
    "1 or 0 or 0\n",
    "```"
   ]
  },
  {
   "cell_type": "code",
   "execution_count": 7,
   "metadata": {},
   "outputs": [
    {
     "data": {
      "text/plain": [
       "1"
      ]
     },
     "execution_count": 7,
     "metadata": {},
     "output_type": "execute_result"
    }
   ],
   "source": [
    "1 or 0\n"
   ]
  },
  {
   "cell_type": "code",
   "execution_count": 8,
   "metadata": {},
   "outputs": [
    {
     "data": {
      "text/plain": [
       "0"
      ]
     },
     "execution_count": 8,
     "metadata": {},
     "output_type": "execute_result"
    }
   ],
   "source": [
    "0 and 0"
   ]
  },
  {
   "cell_type": "code",
   "execution_count": 9,
   "metadata": {},
   "outputs": [
    {
     "data": {
      "text/plain": [
       "False"
      ]
     },
     "execution_count": 9,
     "metadata": {},
     "output_type": "execute_result"
    }
   ],
   "source": [
    "True and False and True"
   ]
  },
  {
   "cell_type": "code",
   "execution_count": 10,
   "metadata": {},
   "outputs": [
    {
     "data": {
      "text/plain": [
       "1"
      ]
     },
     "execution_count": 10,
     "metadata": {},
     "output_type": "execute_result"
    }
   ],
   "source": [
    "1 or 0 or 0"
   ]
  },
  {
   "cell_type": "markdown",
   "metadata": {},
   "source": [
    "# Q20. What are conditional statements in Python?"
   ]
  },
  {
   "cell_type": "markdown",
   "metadata": {},
   "source": [
    "Conditional statements in Python are control structures that allow you to execute different blocks of code based on certain conditions. They help in controlling the flow of the program by making decisions based on the truth or falsehood of specific expressions. The main conditional statements in Python are:\n",
    "\n",
    "if statement: Executes a block of code if a condition is true.\n",
    "else statement: Provides an alternative block of code to execute if the preceding if condition is false.\n",
    "elif statement: Allows you to specify additional conditions to check if the preceding if condition is false."
   ]
  },
  {
   "cell_type": "markdown",
   "metadata": {},
   "source": [
    "# Q21. What is use of 'if', 'elif' and 'else' keywords?"
   ]
  },
  {
   "cell_type": "markdown",
   "metadata": {},
   "source": [
    "if statement: Executes a block of code if a condition is true.\n",
    "else statement: Provides an alternative block of code to execute if the preceding if condition is false.\n",
    "elif statement: Allows you to specify additional conditions to check if the preceding if condition is false."
   ]
  },
  {
   "cell_type": "markdown",
   "metadata": {},
   "source": [
    "# Q22. Write a code to take the age of person as an input and if age >= 18 display \"I can vote\". If age is < 18 display \"I can't vote\"."
   ]
  },
  {
   "cell_type": "code",
   "execution_count": 12,
   "metadata": {},
   "outputs": [
    {
     "name": "stdout",
     "output_type": "stream",
     "text": [
      "Enter age to check7\n",
      "I can't vote\n"
     ]
    }
   ],
   "source": [
    "age = int(input(\"Enter age to check\"))\n",
    "if age >= 18:\n",
    "    print(\"I can vote\")\n",
    "else:\n",
    "    print(\"I can't vote\")"
   ]
  },
  {
   "cell_type": "markdown",
   "metadata": {},
   "source": [
    "# Q23. Write a code that displays the sum of all the even numbers from the given list."
   ]
  },
  {
   "cell_type": "code",
   "execution_count": 23,
   "metadata": {},
   "outputs": [
    {
     "name": "stdout",
     "output_type": "stream",
     "text": [
      "392\n"
     ]
    }
   ],
   "source": [
    "list1 = [12, 75, 150, 180, 145, 525, 50]\n",
    "sum = 0\n",
    "\n",
    "for i in range(0,len(list1)):\n",
    "    if list1[i]%2==0:\n",
    "        sum = sum + list1[i]\n",
    "    else:\n",
    "        pass\n",
    "   \n",
    "print(sum)\n",
    "    "
   ]
  },
  {
   "cell_type": "markdown",
   "metadata": {},
   "source": [
    "# Q24. Write a code to take 3 numbers as an input from the user and display the greatest no as output."
   ]
  },
  {
   "cell_type": "code",
   "execution_count": 38,
   "metadata": {},
   "outputs": [
    {
     "name": "stdout",
     "output_type": "stream",
     "text": [
      "Give number 1 45\n",
      "Give number 2 12\n",
      "Give number 3 665\n",
      "665\n"
     ]
    }
   ],
   "source": [
    "num1 = int(input(\"Give number 1 \"))\n",
    "num2 = int(input(\"Give number 2 \"))\n",
    "num3 = int(input(\"Give number 3 \"))\n",
    "\n",
    "if (num1 >= num2) and (num1 >= num3):\n",
    "    largest = num1\n",
    "elif (num2 >= num1) and (num2 >= num3):\n",
    "    largest = num2\n",
    "else:\n",
    "    largest = num3\n",
    "print(largest)"
   ]
  },
  {
   "cell_type": "markdown",
   "metadata": {},
   "source": [
    "# Q25. Write a program to display only those numbers from a list that satisfy the following conditions\n",
    "\n",
    "- The number must be divisible by five\n",
    "\n",
    "- If the number is greater than 150, then skip it and move to the next number\n",
    "\n",
    "- If the number is greater than 500, then stop the loop\n",
    "```\n",
    "numbers = [12, 75, 150, 180, 145, 525, 50]"
   ]
  },
  {
   "cell_type": "code",
   "execution_count": 40,
   "metadata": {},
   "outputs": [
    {
     "name": "stdout",
     "output_type": "stream",
     "text": [
      "75\n",
      "150\n",
      "180\n",
      "145\n",
      "525\n",
      "50\n"
     ]
    }
   ],
   "source": [
    "numbers = [12, 75, 150, 180, 145, 525, 50]\n",
    "\n",
    "for i in numbers:\n",
    "    if i%5 ==0:\n",
    "        print(i)"
   ]
  },
  {
   "cell_type": "code",
   "execution_count": 42,
   "metadata": {},
   "outputs": [
    {
     "name": "stdout",
     "output_type": "stream",
     "text": [
      "12\n",
      "75\n",
      "150\n",
      "145\n",
      "50\n"
     ]
    }
   ],
   "source": [
    "numbers = [12, 75, 150, 180, 145, 525, 50]\n",
    "\n",
    "for i in numbers:\n",
    "    if i>150:\n",
    "        continue\n",
    "    else:\n",
    "        print(i)"
   ]
  },
  {
   "cell_type": "code",
   "execution_count": 44,
   "metadata": {},
   "outputs": [
    {
     "name": "stdout",
     "output_type": "stream",
     "text": [
      "12\n",
      "75\n",
      "150\n",
      "180\n",
      "145\n"
     ]
    }
   ],
   "source": [
    "numbers = [12, 75, 150, 180, 145, 525, 50]\n",
    "\n",
    "for i in numbers:\n",
    "    if i >500:\n",
    "        break\n",
    "    else:\n",
    "        print(i)"
   ]
  },
  {
   "cell_type": "markdown",
   "metadata": {},
   "source": [
    "# Q26. What is a string? How can we declare string in Python?"
   ]
  },
  {
   "cell_type": "markdown",
   "metadata": {},
   "source": [
    "A string is a sequence of characters in Python. It is used to represent and manipulate textual data. Strings can contain letters, numbers, symbols, and whitespace.\n",
    "\n",
    "In Python, you can declare a string by enclosing the characters within single quotes (' '), double quotes (\" \"), or triple quotes (\"\"\" \"\"\" or ''' '''). The choice of quotes is based on personal preference or specific requirements.\n",
    "\n",
    "for example:\n",
    "str1 = \"Hello World\"\n"
   ]
  },
  {
   "cell_type": "markdown",
   "metadata": {},
   "source": [
    "# Q27. How can we access the string using its index?"
   ]
  },
  {
   "cell_type": "markdown",
   "metadata": {},
   "source": [
    "An string can be accessed by using [] bracket.\n",
    "for example:\n",
    "check below line"
   ]
  },
  {
   "cell_type": "code",
   "execution_count": 47,
   "metadata": {},
   "outputs": [
    {
     "data": {
      "text/plain": [
       "'e'"
      ]
     },
     "execution_count": 47,
     "metadata": {},
     "output_type": "execute_result"
    }
   ],
   "source": [
    "a = \"Hello\"\n",
    "a[1]"
   ]
  },
  {
   "cell_type": "markdown",
   "metadata": {},
   "source": [
    "# Q28. Write a code to get the desired output of the following\n",
    "\n",
    "string = \"Big Data iNeuron\"\n",
    "desired_output = \"iNeuron\""
   ]
  },
  {
   "cell_type": "code",
   "execution_count": 49,
   "metadata": {},
   "outputs": [
    {
     "name": "stdout",
     "output_type": "stream",
     "text": [
      "iNeuron\n"
     ]
    }
   ],
   "source": [
    "string = \"Big Data iNeuron\"\n",
    "print(string[9:16])"
   ]
  },
  {
   "cell_type": "markdown",
   "metadata": {},
   "source": [
    "# Q29. Write a code to get the desired output of the following"
   ]
  },
  {
   "cell_type": "markdown",
   "metadata": {},
   "source": [
    "string = \"Big Data iNeuron\"\n",
    "desired_output = \"norueNi\""
   ]
  },
  {
   "cell_type": "code",
   "execution_count": 61,
   "metadata": {},
   "outputs": [
    {
     "data": {
      "text/plain": [
       "'norueNi'"
      ]
     },
     "execution_count": 61,
     "metadata": {},
     "output_type": "execute_result"
    }
   ],
   "source": [
    "string = \"Big Data iNeuron\"\n",
    "string[15:8:-1]"
   ]
  },
  {
   "cell_type": "markdown",
   "metadata": {},
   "source": [
    "# Q30. Reverse the string given in the above question. Ans30."
   ]
  },
  {
   "cell_type": "code",
   "execution_count": 62,
   "metadata": {},
   "outputs": [
    {
     "data": {
      "text/plain": [
       "'norueNi ataD giB'"
      ]
     },
     "execution_count": 62,
     "metadata": {},
     "output_type": "execute_result"
    }
   ],
   "source": [
    "string = \"Big Data iNeuron\"\n",
    "string[::-1]"
   ]
  },
  {
   "cell_type": "markdown",
   "metadata": {},
   "source": [
    "# Q31. How can you delete entire string at once?"
   ]
  },
  {
   "cell_type": "code",
   "execution_count": 64,
   "metadata": {},
   "outputs": [
    {
     "ename": "NameError",
     "evalue": "name 'string' is not defined",
     "output_type": "error",
     "traceback": [
      "\u001b[1;31m---------------------------------------------------------------------------\u001b[0m",
      "\u001b[1;31mNameError\u001b[0m                                 Traceback (most recent call last)",
      "\u001b[1;32m<ipython-input-64-196e212b6732>\u001b[0m in \u001b[0;36m<module>\u001b[1;34m\u001b[0m\n\u001b[1;32m----> 1\u001b[1;33m \u001b[1;32mdel\u001b[0m\u001b[1;33m(\u001b[0m\u001b[0mstring\u001b[0m\u001b[1;33m)\u001b[0m\u001b[1;33m\u001b[0m\u001b[1;33m\u001b[0m\u001b[0m\n\u001b[0m\u001b[0;32m      2\u001b[0m \u001b[0mstring\u001b[0m\u001b[1;33m\u001b[0m\u001b[1;33m\u001b[0m\u001b[0m\n",
      "\u001b[1;31mNameError\u001b[0m: name 'string' is not defined"
     ]
    }
   ],
   "source": [
    "del(string)\n",
    "string"
   ]
  },
  {
   "cell_type": "markdown",
   "metadata": {},
   "source": [
    "# Q32. What is escape sequence?"
   ]
  },
  {
   "cell_type": "markdown",
   "metadata": {},
   "source": [
    "An escape sequence is a combination of characters that starts with a backslash () in a string. It is used to represent certain special characters or control codes that are difficult to type or represent directly.\n",
    "\n",
    "For example, the backslash followed by a specific character forms an escape sequence to represent characters such as newline (\\n), tab (\\t), backslash (\\), and more.\n",
    "\n",
    "Escape sequences are used to add special formatting or characters in strings that are otherwise difficult to include directly.\n",
    "\n",
    "Example:\n",
    "\n",
    "\\n represents a newline character.\n",
    "\\t represents a tab character.\n",
    "\\\\ represents a backslash character.\n",
    "By using escape sequences, you can include special characters or control codes within a string and represent them in a readable and understandable manner."
   ]
  },
  {
   "cell_type": "markdown",
   "metadata": {},
   "source": [
    "# Q33. How can you print the below string?\n",
    "'iNeuron's Big Data Course'"
   ]
  },
  {
   "cell_type": "code",
   "execution_count": 70,
   "metadata": {},
   "outputs": [
    {
     "data": {
      "text/plain": [
       "\"iNeuron's Big Data Course\""
      ]
     },
     "execution_count": 70,
     "metadata": {},
     "output_type": "execute_result"
    }
   ],
   "source": [
    "str = 'iNeuron\\'s Big Data Course'\n",
    "str"
   ]
  },
  {
   "cell_type": "markdown",
   "metadata": {},
   "source": [
    "# Q34. What is a list in Python?"
   ]
  },
  {
   "cell_type": "markdown",
   "metadata": {},
   "source": [
    " Python list are dynamically sized array, declared in languages like C++ and Java. A list is a collection of things, enclosed in [ ] and separated by commas."
   ]
  },
  {
   "cell_type": "markdown",
   "metadata": {},
   "source": [
    "# Q35. How can you create a list in Python?"
   ]
  },
  {
   "cell_type": "markdown",
   "metadata": {},
   "source": [
    "A list can be created by [] brackets"
   ]
  },
  {
   "cell_type": "markdown",
   "metadata": {},
   "source": [
    "# Q36. How can we access the elements in a list?"
   ]
  },
  {
   "cell_type": "markdown",
   "metadata": {},
   "source": [
    "An element can be accessed by using indexing in a list"
   ]
  },
  {
   "cell_type": "markdown",
   "metadata": {},
   "source": [
    "# Q37. Write a code to access the word \"iNeuron\" from the given list.\n",
    "lst = [1,2,3,\"Hi\",[45,54, \"iNeuron\"], \"Big Data\"]"
   ]
  },
  {
   "cell_type": "code",
   "execution_count": 73,
   "metadata": {},
   "outputs": [
    {
     "data": {
      "text/plain": [
       "'iNeuron'"
      ]
     },
     "execution_count": 73,
     "metadata": {},
     "output_type": "execute_result"
    }
   ],
   "source": [
    "lst = [1,2,3,\"Hi\",[45,54, \"iNeuron\"], \"Big Data\"]\n",
    "lst[4][2]"
   ]
  },
  {
   "cell_type": "markdown",
   "metadata": {},
   "source": [
    "# Q38. Take a list as an input from the user and find the length of the list."
   ]
  },
  {
   "cell_type": "code",
   "execution_count": 74,
   "metadata": {},
   "outputs": [
    {
     "name": "stdout",
     "output_type": "stream",
     "text": [
      "Enter number of elements seprated by space: 10 20 30 40 50\n",
      "5\n"
     ]
    }
   ],
   "source": [
    "lst = input(\"Enter number of elements seprated by space: \").split(\" \")\n",
    "print(len(lst))"
   ]
  },
  {
   "cell_type": "markdown",
   "metadata": {},
   "source": [
    "# Q39. Add the word \"Big\" in the 3rd index of the given list.\n",
    "lst = [\"Welcome\", \"to\", \"Data\", \"course\"]"
   ]
  },
  {
   "cell_type": "code",
   "execution_count": 78,
   "metadata": {},
   "outputs": [],
   "source": [
    "lst = [\"Welcome\", \"to\", \"Data\", \"course\"]"
   ]
  },
  {
   "cell_type": "code",
   "execution_count": 79,
   "metadata": {},
   "outputs": [],
   "source": [
    "lst.insert(2,\"Big\") "
   ]
  },
  {
   "cell_type": "code",
   "execution_count": 80,
   "metadata": {},
   "outputs": [
    {
     "data": {
      "text/plain": [
       "['Welcome', 'to', 'Big', 'Data', 'course']"
      ]
     },
     "execution_count": 80,
     "metadata": {},
     "output_type": "execute_result"
    }
   ],
   "source": [
    "lst"
   ]
  },
  {
   "cell_type": "markdown",
   "metadata": {},
   "source": [
    "# Q40. What is a tuple? How is it different from list?"
   ]
  },
  {
   "cell_type": "markdown",
   "metadata": {},
   "source": [
    "A tuple is an ordered, immutable collection of elements in Python. It is similar to a list but has a few key differences:\n",
    "\n",
    "Immutability: Tuples are immutable, which means their elements cannot be modified once the tuple is created. In contrast, lists are mutable, allowing for the addition, deletion, or modification of elements.\n",
    "\n",
    "Syntax: Tuples are defined using parentheses ( ) and elements are separated by commas, while lists are defined using square brackets [ ].\n",
    "\n",
    "Usage: Tuples are typically used to store related pieces of data that are not meant to be changed, such as coordinates, database records, or function return values. Lists, on the other hand, are commonly used when the order or content of the elements needs to be modified.\n",
    "\n",
    "Performance: Tuples are generally faster and more memory-efficient than lists because of their immutability. This can be advantageous when working with large datasets or in situations where data integrity is crucial."
   ]
  },
  {
   "cell_type": "markdown",
   "metadata": {},
   "source": [
    "# Q41. How can you create a tuple in Python?"
   ]
  },
  {
   "cell_type": "markdown",
   "metadata": {},
   "source": [
    "A tuple can be created by using ()"
   ]
  },
  {
   "cell_type": "markdown",
   "metadata": {},
   "source": [
    "# Q42. Create a tuple and try to add your name in the tuple. Are you able to do it? Support your answer with reason."
   ]
  },
  {
   "cell_type": "code",
   "execution_count": 82,
   "metadata": {},
   "outputs": [],
   "source": [
    "No , tuple can not be modified as it is immutable.\n",
    "\n",
    "The workaround this is typecasting it into a list and then appending"
   ]
  },
  {
   "cell_type": "markdown",
   "metadata": {},
   "source": [
    "# Q43. Can two tuple be appended. If yes, write a code for it. If not, why?"
   ]
  },
  {
   "cell_type": "code",
   "execution_count": 83,
   "metadata": {},
   "outputs": [
    {
     "data": {
      "text/plain": [
       "(1, 2, 3, 2, 3, 4)"
      ]
     },
     "execution_count": 83,
     "metadata": {},
     "output_type": "execute_result"
    }
   ],
   "source": [
    "#No two tuples can not be appended but they can be concatenated.\n",
    "\n",
    "tup1= (1,2,3)\n",
    "tup2= (2,3,4)\n",
    "tup1+tup2"
   ]
  },
  {
   "cell_type": "markdown",
   "metadata": {},
   "source": [
    "# Q.44 Take a tuple as an input and print the count of elements in it."
   ]
  },
  {
   "cell_type": "code",
   "execution_count": 90,
   "metadata": {},
   "outputs": [
    {
     "name": "stdout",
     "output_type": "stream",
     "text": [
      "Give input sepearated by space20 52 55 55 66\n",
      "5\n"
     ]
    }
   ],
   "source": [
    "lst1 = input(\"Give input sepearated by space \").split(\" \")\n",
    "tup1 = tuple(lst1)\n",
    "print (len(tup1))"
   ]
  },
  {
   "cell_type": "markdown",
   "metadata": {},
   "source": [
    "# Q45. What are sets in Python?"
   ]
  },
  {
   "cell_type": "markdown",
   "metadata": {},
   "source": [
    "Sets in Python are unordered collections of unique elements. They are used to store multiple items in a single variable, ensuring that each item appears only once in the set. Sets are mutable, meaning you can add or remove elements from them. Sets are defined using curly braces ({}) or the set() constructor function."
   ]
  },
  {
   "cell_type": "markdown",
   "metadata": {},
   "source": [
    "# Q46. How can you create a set?"
   ]
  },
  {
   "cell_type": "markdown",
   "metadata": {},
   "source": [
    "A set can be created by using a {} or set()"
   ]
  },
  {
   "cell_type": "markdown",
   "metadata": {},
   "source": [
    "# Q47. Create a set and add \"iNeuron\" in your set."
   ]
  },
  {
   "cell_type": "code",
   "execution_count": 94,
   "metadata": {},
   "outputs": [
    {
     "data": {
      "text/plain": [
       "{'iNeuron'}"
      ]
     },
     "execution_count": 94,
     "metadata": {},
     "output_type": "execute_result"
    }
   ],
   "source": [
    "set1 = set()\n",
    "set1.add(\"iNeuron\")\n",
    "set1"
   ]
  },
  {
   "cell_type": "markdown",
   "metadata": {},
   "source": [
    "# Q48. Try to add multiple values using add() function."
   ]
  },
  {
   "cell_type": "code",
   "execution_count": 95,
   "metadata": {},
   "outputs": [
    {
     "data": {
      "text/plain": [
       "{'Data', 'Engineer', 'iNeuron'}"
      ]
     },
     "execution_count": 95,
     "metadata": {},
     "output_type": "execute_result"
    }
   ],
   "source": [
    "set1.add(\"Data\")\n",
    "set1.add(\"Engineer\")\n",
    "set1"
   ]
  },
  {
   "cell_type": "markdown",
   "metadata": {},
   "source": [
    "# Q49. How is update() different from add()?"
   ]
  },
  {
   "cell_type": "markdown",
   "metadata": {},
   "source": [
    "add() adds a single element to a set, while update() adds multiple elements from an iterable to a set."
   ]
  },
  {
   "cell_type": "markdown",
   "metadata": {},
   "source": [
    "# Q50. What is clear() in sets?"
   ]
  },
  {
   "cell_type": "markdown",
   "metadata": {},
   "source": [
    " Removes all elements from set"
   ]
  },
  {
   "cell_type": "markdown",
   "metadata": {},
   "source": [
    "# Q51. What is frozen set?"
   ]
  },
  {
   "cell_type": "markdown",
   "metadata": {},
   "source": [
    "\n",
    "A frozen set in Python is an immutable version of a set. It is an unordered collection of unique elements, just like a regular set, but with the added property of immutability. Once a frozen set is created, its elements cannot be modified.\n",
    "\n",
    "Frozen sets are created using the frozenset() constructor function. They support operations such as union, intersection, difference, and subset testing, similar to regular sets. However, since frozen sets are immutable, you cannot add or remove elements from them."
   ]
  },
  {
   "cell_type": "markdown",
   "metadata": {},
   "source": [
    "# Q52. How is frozen set different from set?"
   ]
  },
  {
   "cell_type": "markdown",
   "metadata": {},
   "source": [
    "The key difference between a frozen set and a regular set is that regular sets are mutable, allowing modifications to their elements, while frozen sets are immutable and cannot be modified once created."
   ]
  },
  {
   "cell_type": "markdown",
   "metadata": {},
   "source": [
    "#  What is union() in sets? Explain via code"
   ]
  },
  {
   "cell_type": "markdown",
   "metadata": {},
   "source": [
    "the union() method in sets is used to combine multiple sets into a new set that contains all the unique elements from the original sets.\n",
    "\n"
   ]
  },
  {
   "cell_type": "code",
   "execution_count": 96,
   "metadata": {},
   "outputs": [
    {
     "data": {
      "text/plain": [
       "{1, 2, 3, 4, 5, 6, 7, 8, 9, 10, 11}"
      ]
     },
     "execution_count": 96,
     "metadata": {},
     "output_type": "execute_result"
    }
   ],
   "source": [
    "set1 = {1,2,3,4,5}\n",
    "set2 = {4,5,6,7,8}\n",
    "set3 = {7,8,9,10,11}\n",
    "set1.union(set1,set2,set3)"
   ]
  },
  {
   "cell_type": "markdown",
   "metadata": {},
   "source": [
    "# What is intersection() in sets? Explain via code."
   ]
  },
  {
   "cell_type": "markdown",
   "metadata": {},
   "source": [
    "The intersection method in sets is used to return commmon values from multiple set"
   ]
  },
  {
   "cell_type": "code",
   "execution_count": 98,
   "metadata": {},
   "outputs": [
    {
     "data": {
      "text/plain": [
       "{4}"
      ]
     },
     "execution_count": 98,
     "metadata": {},
     "output_type": "execute_result"
    }
   ],
   "source": [
    "set1 = {1,2,3,4,5}\n",
    "set2 = {4,5,6,7,8}\n",
    "set3 = {4,8,9,10,11}\n",
    "set1.intersection(set1,set2,set3)"
   ]
  },
  {
   "cell_type": "markdown",
   "metadata": {},
   "source": [
    "# Q55. What is dictionary in Python?"
   ]
  },
  {
   "cell_type": "markdown",
   "metadata": {},
   "source": [
    "A dictionary in Python is an unordered collection of key-value pairs. It is a built-in data type that allows you to store and retrieve values using a unique key. Dictionaries are mutable, meaning you can add, remove, and modify key-value pairs after creation. Keys within a dictionary must be unique, while values can be of any data type. Dictionaries are defined using curly braces ({}) and the key-value pairs are separated by colons (:)."
   ]
  },
  {
   "cell_type": "markdown",
   "metadata": {},
   "source": [
    "# Q56. How is dictionary different from all other data structures."
   ]
  },
  {
   "cell_type": "markdown",
   "metadata": {},
   "source": [
    "Dictionary have key value pair in them whereas all other data structures have values in them."
   ]
  },
  {
   "cell_type": "markdown",
   "metadata": {},
   "source": [
    "# Q57. How can we delare a dictionary in Python?"
   ]
  },
  {
   "cell_type": "markdown",
   "metadata": {},
   "source": [
    "A dictionary can be declare by using {} braces\n"
   ]
  },
  {
   "cell_type": "code",
   "execution_count": 101,
   "metadata": {},
   "outputs": [
    {
     "ename": "SyntaxError",
     "evalue": "invalid syntax (<ipython-input-101-3a7291661dea>, line 1)",
     "output_type": "error",
     "traceback": [
      "\u001b[1;36m  File \u001b[1;32m\"<ipython-input-101-3a7291661dea>\"\u001b[1;36m, line \u001b[1;32m1\u001b[0m\n\u001b[1;33m    dict{'r':\"value\"}\u001b[0m\n\u001b[1;37m        ^\u001b[0m\n\u001b[1;31mSyntaxError\u001b[0m\u001b[1;31m:\u001b[0m invalid syntax\n"
     ]
    }
   ],
   "source": [
    "dict{'r':\"value\"}"
   ]
  },
  {
   "cell_type": "markdown",
   "metadata": {},
   "source": [
    "# Q58. What will the output of the following?\n",
    "var = {}\n",
    "print(type(var))"
   ]
  },
  {
   "cell_type": "code",
   "execution_count": 102,
   "metadata": {},
   "outputs": [
    {
     "name": "stdout",
     "output_type": "stream",
     "text": [
      "<class 'dict'>\n"
     ]
    }
   ],
   "source": [
    "var = {}\n",
    "print(type(var))"
   ]
  },
  {
   "cell_type": "markdown",
   "metadata": {},
   "source": [
    "# Q.59 How can we add an element in a dictionary?"
   ]
  },
  {
   "cell_type": "code",
   "execution_count": 103,
   "metadata": {},
   "outputs": [],
   "source": [
    "dict1 ={}\n"
   ]
  },
  {
   "cell_type": "code",
   "execution_count": 113,
   "metadata": {},
   "outputs": [
    {
     "data": {
      "text/plain": [
       "{0: {'Hello'}, 1: ['hello', 'world'], 'hey': ['world']}"
      ]
     },
     "execution_count": 113,
     "metadata": {},
     "output_type": "execute_result"
    }
   ],
   "source": [
    "dict1[0] = {\"Hello\"}\n",
    "dict1[1] = [\"hello\",\"world\"]\n",
    "dict1[\"hey\"] = [\"world\"]\n",
    "dict1"
   ]
  },
  {
   "cell_type": "markdown",
   "metadata": {},
   "source": [
    "# Q60. Create a dictionary and access all the values in that dictionary."
   ]
  },
  {
   "cell_type": "code",
   "execution_count": 114,
   "metadata": {},
   "outputs": [
    {
     "data": {
      "text/plain": [
       "{0: {'Hello'}, 1: ['hello', 'world'], 'hey': ['world']}"
      ]
     },
     "execution_count": 114,
     "metadata": {},
     "output_type": "execute_result"
    }
   ],
   "source": [
    "dict1"
   ]
  },
  {
   "cell_type": "code",
   "execution_count": 117,
   "metadata": {},
   "outputs": [
    {
     "name": "stdout",
     "output_type": "stream",
     "text": [
      "0 {'Hello'}\n",
      "1 ['hello', 'world']\n",
      "hey ['world']\n"
     ]
    }
   ],
   "source": [
    "for i,v in dict1.items():\n",
    "    print(i,v)"
   ]
  },
  {
   "cell_type": "markdown",
   "metadata": {},
   "source": [
    "# Q61. Create a nested dictionary and access all the element in the inner dictionary."
   ]
  },
  {
   "cell_type": "code",
   "execution_count": 118,
   "metadata": {},
   "outputs": [
    {
     "data": {
      "text/plain": [
       "{0: {'Hello'}, 1: ['hello', 'world'], 'hey': ['world']}"
      ]
     },
     "execution_count": 118,
     "metadata": {},
     "output_type": "execute_result"
    }
   ],
   "source": [
    "dict1"
   ]
  },
  {
   "cell_type": "code",
   "execution_count": 119,
   "metadata": {},
   "outputs": [],
   "source": [
    "dict1['nested'] = {\"new\":[\"element\",5,12.2]}"
   ]
  },
  {
   "cell_type": "code",
   "execution_count": 120,
   "metadata": {},
   "outputs": [
    {
     "data": {
      "text/plain": [
       "{0: {'Hello'},\n",
       " 1: ['hello', 'world'],\n",
       " 'hey': ['world'],\n",
       " 'nested': {'new': ['element', 5, 12.2]}}"
      ]
     },
     "execution_count": 120,
     "metadata": {},
     "output_type": "execute_result"
    }
   ],
   "source": [
    "dict1"
   ]
  },
  {
   "cell_type": "code",
   "execution_count": 123,
   "metadata": {},
   "outputs": [
    {
     "data": {
      "text/plain": [
       "['element', 5, 12.2]"
      ]
     },
     "execution_count": 123,
     "metadata": {},
     "output_type": "execute_result"
    }
   ],
   "source": [
    "dict1['nested']['new']"
   ]
  },
  {
   "cell_type": "markdown",
   "metadata": {},
   "source": [
    "# Q62. What is the use of get() function?"
   ]
  },
  {
   "cell_type": "markdown",
   "metadata": {},
   "source": [
    "The get() function in Python is used to retrieve the value associated with a given key from a dictionary. It allows you to access dictionary elements in a safer way, especially when the key may not exist in the dictionary. If the key is present, get() returns the corresponding value; if the key is not found, it returns a specified default value (or None if not provided) instead of raising a KeyError exception. The get() function helps prevent potential errors and allows for graceful handling of missing keys in dictionaries."
   ]
  },
  {
   "cell_type": "code",
   "execution_count": 125,
   "metadata": {},
   "outputs": [
    {
     "data": {
      "text/plain": [
       "{'new': ['element', 5, 12.2]}"
      ]
     },
     "execution_count": 125,
     "metadata": {},
     "output_type": "execute_result"
    }
   ],
   "source": [
    "dict1.get(\"nested\")"
   ]
  },
  {
   "cell_type": "markdown",
   "metadata": {},
   "source": [
    "# Q63. What is the use of items() function?"
   ]
  },
  {
   "cell_type": "markdown",
   "metadata": {},
   "source": [
    "It returns key with values of a dictionary"
   ]
  },
  {
   "cell_type": "markdown",
   "metadata": {},
   "source": [
    "# Q64. What is the use of pop() function?"
   ]
  },
  {
   "cell_type": "markdown",
   "metadata": {},
   "source": [
    "The pop() function in Python is used to remove and return an element from a dictionary based on the specified key. It allows you to retrieve the value associated with a key and remove the key-value pair from the dictionary in one operation. The pop() function takes the key as an argument and returns the corresponding value. If the key is not found, an optional default value can be provided, which will be returned instead of raising a KeyError exception. The pop() function allows for the selective removal of items from a dictionary based on their keys."
   ]
  },
  {
   "cell_type": "markdown",
   "metadata": {},
   "source": [
    "# Q65. What is the use of popitems() function?"
   ]
  },
  {
   "cell_type": "markdown",
   "metadata": {},
   "source": [
    "The popitem() function in Python is used to remove and return an arbitrary key-value pair from a dictionary. It removes and returns the last inserted key-value pair if the dictionary is not empty. The popitem() function is useful when you want to remove an item from a dictionary but don't specifically need to target a particular key.\n",
    "\n",
    "The popitem() function does not take any arguments and returns a tuple containing the key-value pair that was removed. If the dictionary is empty, a KeyError exception is raised."
   ]
  },
  {
   "cell_type": "markdown",
   "metadata": {},
   "source": [
    "# Q66. What is the use of keys() function?"
   ]
  },
  {
   "cell_type": "markdown",
   "metadata": {},
   "source": [
    "It returns a list of all keys used in a dictionary."
   ]
  },
  {
   "cell_type": "markdown",
   "metadata": {},
   "source": [
    "# Q67. What is the use of values() function?"
   ]
  },
  {
   "cell_type": "markdown",
   "metadata": {},
   "source": [
    "The values() function in Python is used to return a view object that contains the values of a dictionary. It allows you to access the values stored in a dictionary without needing to access the keys. The values() function provides a dynamic view of the dictionary's values, meaning that any changes made to the dictionary will be reflected in the view."
   ]
  },
  {
   "cell_type": "markdown",
   "metadata": {},
   "source": [
    "# Q68. What are loops in Python?"
   ]
  },
  {
   "cell_type": "markdown",
   "metadata": {},
   "source": [
    "Loops are used to iterate over a block of code as long as the termination state is met"
   ]
  },
  {
   "cell_type": "markdown",
   "metadata": {},
   "source": [
    "# Q69. How many type of loop are there in Python?"
   ]
  },
  {
   "cell_type": "markdown",
   "metadata": {},
   "source": [
    "Two types:\n",
    "1) For loop\n",
    "2) While loop"
   ]
  },
  {
   "cell_type": "markdown",
   "metadata": {},
   "source": [
    "# Q70. What is the difference between for and while loops?"
   ]
  },
  {
   "cell_type": "markdown",
   "metadata": {},
   "source": [
    "For loop is used to iterate over a block of code till we have to repeat a code of a certain number of times whereas a while loop can be used only till a certain condition is met(True)"
   ]
  },
  {
   "cell_type": "markdown",
   "metadata": {},
   "source": [
    "# Q71. What is the use of continue statement?"
   ]
  },
  {
   "cell_type": "markdown",
   "metadata": {},
   "source": [
    "Continue Statement skips the execution of the program block from after the continue statement and forces the control to start the next iteration."
   ]
  },
  {
   "cell_type": "markdown",
   "metadata": {},
   "source": [
    "# Q72. What is the use of break statement?"
   ]
  },
  {
   "cell_type": "markdown",
   "metadata": {},
   "source": [
    "break statement in Python is used to bring the control out of the loop when some external condition is triggered. break statement is put inside the loop body"
   ]
  },
  {
   "cell_type": "markdown",
   "metadata": {},
   "source": [
    "# Q73. What is the use of pass statement?"
   ]
  },
  {
   "cell_type": "markdown",
   "metadata": {},
   "source": [
    "A pass statement is used to tell the compiler that the control needs to be shifted to the next line of control so that the compiler does not throw any error"
   ]
  },
  {
   "cell_type": "markdown",
   "metadata": {},
   "source": [
    "# Q74. What is the use of range() function?"
   ]
  },
  {
   "cell_type": "markdown",
   "metadata": {},
   "source": [
    "A range function is used to get a sequence of number based on the argument provided in the range function."
   ]
  },
  {
   "cell_type": "markdown",
   "metadata": {},
   "source": [
    "# Q75. How can you loop over a dictionary?"
   ]
  },
  {
   "cell_type": "code",
   "execution_count": 130,
   "metadata": {},
   "outputs": [
    {
     "name": "stdout",
     "output_type": "stream",
     "text": [
      "0\n",
      "1\n",
      "hey\n",
      "nested\n"
     ]
    }
   ],
   "source": [
    "dict1\n",
    "for i in dict1:\n",
    "    print (i)"
   ]
  },
  {
   "cell_type": "markdown",
   "metadata": {},
   "source": [
    "# Coding problems\n",
    "Q76. Write a Python program to find the factorial of a given number."
   ]
  },
  {
   "cell_type": "code",
   "execution_count": 136,
   "metadata": {},
   "outputs": [],
   "source": [
    "def fact(n):\n",
    "    factorial = 1\n",
    "    \n",
    "    if n < 0:\n",
    "        return 0\n",
    "    elif n == 0 or n ==1:\n",
    "        return 1\n",
    "    \n",
    "    for i in range(1,n+1):\n",
    "        factorial = factorial*i\n",
    "        \n",
    "    print(factorial)"
   ]
  },
  {
   "cell_type": "code",
   "execution_count": 139,
   "metadata": {},
   "outputs": [
    {
     "data": {
      "text/plain": [
       "0"
      ]
     },
     "execution_count": 139,
     "metadata": {},
     "output_type": "execute_result"
    }
   ],
   "source": [
    "fact(-8)"
   ]
  },
  {
   "cell_type": "markdown",
   "metadata": {},
   "source": [
    "# Q77. Write a Python program to calculate the simple interest. Formula to calculate simple interest is SI = (PRT)/100\n",
    "\n"
   ]
  },
  {
   "cell_type": "code",
   "execution_count": 147,
   "metadata": {},
   "outputs": [],
   "source": [
    "def SI(p,r,t):\n",
    "    SI = p*r*t/100\n",
    "    \n",
    "    return SI \n",
    "    "
   ]
  },
  {
   "cell_type": "code",
   "execution_count": 148,
   "metadata": {},
   "outputs": [
    {
     "data": {
      "text/plain": [
       "3.84"
      ]
     },
     "execution_count": 148,
     "metadata": {},
     "output_type": "execute_result"
    }
   ],
   "source": [
    "SI(8,8,6)"
   ]
  },
  {
   "cell_type": "markdown",
   "metadata": {},
   "source": [
    "# Q78. Write a Python program to calculate the compound interest. Formula of compound interest is A = P(1+ R/100)^t"
   ]
  },
  {
   "cell_type": "code",
   "execution_count": 159,
   "metadata": {},
   "outputs": [],
   "source": [
    "def CI(p,r,t):\n",
    "    \n",
    "    A = p*(1+r/100)**t\n",
    "    Ci = A - p\n",
    "    \n",
    "    return Ci"
   ]
  },
  {
   "cell_type": "code",
   "execution_count": 160,
   "metadata": {},
   "outputs": [
    {
     "data": {
      "text/plain": [
       "4641.000000000004"
      ]
     },
     "execution_count": 160,
     "metadata": {},
     "output_type": "execute_result"
    }
   ],
   "source": [
    "CI(10000,10,4)"
   ]
  },
  {
   "cell_type": "markdown",
   "metadata": {},
   "source": [
    "# Q79. Write a Python program to check if a number is prime or not."
   ]
  },
  {
   "cell_type": "code",
   "execution_count": 165,
   "metadata": {},
   "outputs": [],
   "source": [
    "def prime(n):\n",
    "    for i in range(2,n//2):\n",
    "        flag = 0\n",
    "        if n%i == 0:\n",
    "            flag +=1\n",
    "            print(\"Not a prime number\")\n",
    "            break\n",
    "    if flag == 0:\n",
    "        print(\"Prime number\")"
   ]
  },
  {
   "cell_type": "code",
   "execution_count": 166,
   "metadata": {},
   "outputs": [
    {
     "name": "stdout",
     "output_type": "stream",
     "text": [
      "Not a prime number\n"
     ]
    }
   ],
   "source": [
    "prime(15)"
   ]
  },
  {
   "cell_type": "markdown",
   "metadata": {},
   "source": [
    "# Q80. Write a Python program to check Armstrong Number."
   ]
  },
  {
   "cell_type": "code",
   "execution_count": 1,
   "metadata": {},
   "outputs": [],
   "source": [
    "def check_armstrong(num):\n",
    "    new_num = num\n",
    "    power = len(str(num))\n",
    "    sum = 0\n",
    "    while num!=0:\n",
    "        x = num%10\n",
    "        sum = sum + x**power\n",
    "        num = num//10\n",
    "    if sum == new_num:\n",
    "        print (\"Armstrong number\")\n",
    "    else:\n",
    "        print(\"Not a Armstrong number\")"
   ]
  },
  {
   "cell_type": "code",
   "execution_count": 8,
   "metadata": {},
   "outputs": [
    {
     "name": "stdout",
     "output_type": "stream",
     "text": [
      "Armstrong number\n"
     ]
    }
   ],
   "source": [
    "check_armstrong(153)"
   ]
  },
  {
   "cell_type": "markdown",
   "metadata": {},
   "source": [
    "# Q81. Write a Python program to find the n-th Fibonacci Number."
   ]
  },
  {
   "cell_type": "code",
   "execution_count": 1,
   "metadata": {},
   "outputs": [],
   "source": [
    "def fibonacci(n):\n",
    "    \n",
    "    if n <= 0:\n",
    "        print (\"Invalid Input\")\n",
    "    elif n ==1:\n",
    "        return 0\n",
    "    elif n ==2:\n",
    "        return 1\n",
    "    else:\n",
    "        return fibonacci(n-1)+fibonacci(n-2)\n",
    "    \n",
    "        "
   ]
  },
  {
   "cell_type": "code",
   "execution_count": 2,
   "metadata": {},
   "outputs": [
    {
     "data": {
      "text/plain": [
       "8"
      ]
     },
     "execution_count": 2,
     "metadata": {},
     "output_type": "execute_result"
    }
   ],
   "source": [
    "fibonacci(7)"
   ]
  },
  {
   "cell_type": "markdown",
   "metadata": {},
   "source": [
    "# Q82. Write a Python program to interchange the first and last element in a list."
   ]
  },
  {
   "cell_type": "code",
   "execution_count": 10,
   "metadata": {},
   "outputs": [],
   "source": [
    "def swap(mylist):\n",
    "    temp = 0\n",
    "    lenlist = len(mylist)\n",
    "    temp = mylist[lenlist-1]\n",
    "    mylist[lenlist-1] = mylist[0]\n",
    "    mylist[0] = temp\n",
    "    return mylist\n",
    "    \n",
    "    "
   ]
  },
  {
   "cell_type": "code",
   "execution_count": 9,
   "metadata": {},
   "outputs": [],
   "source": [
    "swap([10,20,34,32])"
   ]
  },
  {
   "cell_type": "markdown",
   "metadata": {},
   "source": [
    "# Q83. Write a Python program to swap two elements in a list."
   ]
  },
  {
   "cell_type": "code",
   "execution_count": 5,
   "metadata": {},
   "outputs": [],
   "source": [
    "def swap2(mylist,pos1,pos2):\n",
    "    mylist[pos1], mylist[pos2] = mylist[pos2], mylist[pos1]\n",
    "    return mylist\n",
    "    "
   ]
  },
  {
   "cell_type": "code",
   "execution_count": 6,
   "metadata": {},
   "outputs": [
    {
     "data": {
      "text/plain": [
       "[10, 32, 20, 33]"
      ]
     },
     "execution_count": 6,
     "metadata": {},
     "output_type": "execute_result"
    }
   ],
   "source": [
    "swap2([10,20,32,33],1,2)"
   ]
  },
  {
   "cell_type": "markdown",
   "metadata": {},
   "source": [
    "# Q84. Write a Python program to find N largest element from a list."
   ]
  },
  {
   "cell_type": "code",
   "execution_count": 7,
   "metadata": {},
   "outputs": [],
   "source": [
    "def largest(mylist,n):\n",
    "    mylist = mylist.sort()\n",
    "    return "
   ]
  },
  {
   "cell_type": "code",
   "execution_count": 14,
   "metadata": {},
   "outputs": [],
   "source": [
    "x = [1,22,3,323,3]\n"
   ]
  },
  {
   "cell_type": "code",
   "execution_count": 15,
   "metadata": {},
   "outputs": [],
   "source": [
    "x.sort()"
   ]
  },
  {
   "cell_type": "code",
   "execution_count": 16,
   "metadata": {},
   "outputs": [
    {
     "data": {
      "text/plain": [
       "[1, 3, 3, 22, 323]"
      ]
     },
     "execution_count": 16,
     "metadata": {},
     "output_type": "execute_result"
    }
   ],
   "source": [
    "x"
   ]
  },
  {
   "cell_type": "markdown",
   "metadata": {},
   "source": [
    "# Q85. Write a Python program to find cumulative sum of a list."
   ]
  },
  {
   "cell_type": "code",
   "execution_count": 19,
   "metadata": {},
   "outputs": [
    {
     "name": "stdout",
     "output_type": "stream",
     "text": [
      "[85, 41, 10]\n"
     ]
    }
   ],
   "source": [
    "def n_max_elements(list1, N):\n",
    "    final_list = []\n",
    "\n",
    "    for i in range(0, N):\n",
    "        max1 = 0\n",
    "\n",
    "        for j in range(len(list1)):\t\n",
    "            if list1[j] > max1:\n",
    "                max1 = list1[j];\n",
    "        list1.remove(max1);\n",
    "        final_list.append(max1)\n",
    "    print(final_list)\n",
    "\n",
    "list1 = [2, 6, 41, 85, 0, 3, 7, 6, 10]\n",
    "N = 3\n",
    "\n",
    "n_max_elements(list1, N)"
   ]
  },
  {
   "cell_type": "markdown",
   "metadata": {},
   "source": [
    "# Q85. Write a Python program to find cumulative sum of a list."
   ]
  },
  {
   "cell_type": "code",
   "execution_count": 20,
   "metadata": {},
   "outputs": [
    {
     "name": "stdout",
     "output_type": "stream",
     "text": [
      "Cumulative sum of the list is [10, 30, 60, 100, 150]\n"
     ]
    }
   ],
   "source": [
    "def cumulative_sum(lists):\n",
    "    cu_list = []\n",
    "    length = len(lists)\n",
    "    cu_list = [sum(lists[0:x:1]) for x in range(0, length+1)]\n",
    "    return cu_list[1:]\n",
    "\n",
    "lists = [10, 20, 30, 40, 50]\n",
    "print(f\"Cumulative sum of the list is {cumulative_sum(lists)}\")"
   ]
  },
  {
   "cell_type": "markdown",
   "metadata": {},
   "source": [
    "# Q86. Write a Python program to check if a string is palindrome or not."
   ]
  },
  {
   "cell_type": "code",
   "execution_count": 21,
   "metadata": {},
   "outputs": [],
   "source": [
    "def check_palindrome(x):\n",
    "    if x == x[::-1]:\n",
    "        return True\n",
    "    else:\n",
    "        return False"
   ]
  },
  {
   "cell_type": "code",
   "execution_count": 22,
   "metadata": {},
   "outputs": [
    {
     "data": {
      "text/plain": [
       "True"
      ]
     },
     "execution_count": 22,
     "metadata": {},
     "output_type": "execute_result"
    }
   ],
   "source": [
    "check_palindrome(\"nitin\")"
   ]
  },
  {
   "cell_type": "markdown",
   "metadata": {},
   "source": [
    "# Q87. Write a Python program to remove i'th element from a string."
   ]
  },
  {
   "cell_type": "code",
   "execution_count": 25,
   "metadata": {},
   "outputs": [],
   "source": [
    "def remove_ith_element(string, i):\n",
    "    if i < 0 or i >= len(string):\n",
    "        return string  # Return the original string if the index is out of range\n",
    "\n",
    "    return string[:i] + string[i+1:]"
   ]
  },
  {
   "cell_type": "code",
   "execution_count": 28,
   "metadata": {},
   "outputs": [
    {
     "data": {
      "text/plain": [
       "'Rishbh'"
      ]
     },
     "execution_count": 28,
     "metadata": {},
     "output_type": "execute_result"
    }
   ],
   "source": [
    "remove_ith_element(\"Rishabh\",4)"
   ]
  },
  {
   "cell_type": "markdown",
   "metadata": {},
   "source": [
    "# Q88. Write a Python program to check if a substring is present in a given string."
   ]
  },
  {
   "cell_type": "code",
   "execution_count": 32,
   "metadata": {},
   "outputs": [],
   "source": [
    "def check_substring(string, substring):\n",
    "    if substring in string:\n",
    "        return True\n",
    "    else:\n",
    "        return False"
   ]
  },
  {
   "cell_type": "code",
   "execution_count": 33,
   "metadata": {},
   "outputs": [
    {
     "data": {
      "text/plain": [
       "True"
      ]
     },
     "execution_count": 33,
     "metadata": {},
     "output_type": "execute_result"
    }
   ],
   "source": [
    "check_substring(\"rishabh\",\"r\")"
   ]
  },
  {
   "cell_type": "markdown",
   "metadata": {},
   "source": [
    "# Q89. Write a Python program to find words which are greater than given length k."
   ]
  },
  {
   "cell_type": "code",
   "execution_count": 36,
   "metadata": {},
   "outputs": [
    {
     "name": "stdout",
     "output_type": "stream",
     "text": [
      "['sample', 'string', 'program']\n"
     ]
    }
   ],
   "source": [
    "def find_words_greater_than_k(string, k):\n",
    "    words = string.split()  \n",
    "    result = []\n",
    "    for word in words:\n",
    "        if len(word) > k:\n",
    "            result.append(word)\n",
    "    return result\n",
    "input_string = \"This is a sample string to test the program\"\n",
    "k = 4\n",
    "result = find_words_greater_than_k(input_string, k)\n",
    "print(result)"
   ]
  },
  {
   "cell_type": "markdown",
   "metadata": {},
   "source": [
    "# Q90. Write a Python program to extract unquire dictionary values."
   ]
  },
  {
   "cell_type": "code",
   "execution_count": 42,
   "metadata": {},
   "outputs": [],
   "source": [
    "def extract_unique_values(dictionary):\n",
    "    unique_values = set(dictionary.values())\n",
    "    return unique_values"
   ]
  },
  {
   "cell_type": "code",
   "execution_count": 43,
   "metadata": {},
   "outputs": [
    {
     "name": "stdout",
     "output_type": "stream",
     "text": [
      "{'value2', 'value3', 'value1'}\n"
     ]
    }
   ],
   "source": [
    "input_dictionary = {\n",
    "    'key1': 'value1',\n",
    "    'key2': 'value2',\n",
    "    'key3': 'value1',\n",
    "    'key4': 'value3',\n",
    "    'key5': 'value2'\n",
    "}\n",
    "result = extract_unique_values(input_dictionary)\n",
    "print(result)"
   ]
  },
  {
   "cell_type": "markdown",
   "metadata": {},
   "source": [
    "# Q91. Write a Python program to merge two dictionary."
   ]
  },
  {
   "cell_type": "code",
   "execution_count": 46,
   "metadata": {},
   "outputs": [
    {
     "name": "stdout",
     "output_type": "stream",
     "text": [
      "None\n",
      "{'d': 6, 'c': 4, 'a': 10, 'b': 8}\n"
     ]
    }
   ],
   "source": [
    "def Merge(dict1, dict2):\n",
    "    return(dict2.update(dict1))\n",
    "\n",
    "dict1 = {'a': 10, 'b': 8}\n",
    "dict2 = {'d': 6, 'c': 4}\n",
    "\n",
    "print(Merge(dict1, dict2))\n",
    "\n",
    "print(dict2)"
   ]
  },
  {
   "cell_type": "markdown",
   "metadata": {},
   "source": [
    "# Q92. Write a Python program to convert a list of tuples into dictionary."
   ]
  },
  {
   "cell_type": "code",
   "execution_count": 54,
   "metadata": {},
   "outputs": [],
   "source": [
    "mytuple = [(1,2),(2,3),(4,5)]\n",
    "mydict = dict(mytuple)"
   ]
  },
  {
   "cell_type": "code",
   "execution_count": 55,
   "metadata": {},
   "outputs": [
    {
     "data": {
      "text/plain": [
       "{1: 2, 2: 3, 4: 5}"
      ]
     },
     "execution_count": 55,
     "metadata": {},
     "output_type": "execute_result"
    }
   ],
   "source": [
    "mydict"
   ]
  },
  {
   "cell_type": "markdown",
   "metadata": {},
   "source": [
    "# Q93. Write a Python program to create a list of tuples from given list having number and its cube in each tuple."
   ]
  },
  {
   "cell_type": "code",
   "execution_count": 64,
   "metadata": {},
   "outputs": [],
   "source": [
    "def cube(list1):\n",
    "    tuplelist = []\n",
    "    result = [(i,i**3) for i in list1]\n",
    "    print (result)\n",
    "        \n",
    "        "
   ]
  },
  {
   "cell_type": "code",
   "execution_count": 65,
   "metadata": {},
   "outputs": [
    {
     "name": "stdout",
     "output_type": "stream",
     "text": [
      "[(1, 1), (2, 8), (3, 27), (4, 64)]\n"
     ]
    }
   ],
   "source": [
    "cube([1,2,3,4])"
   ]
  },
  {
   "cell_type": "markdown",
   "metadata": {},
   "source": [
    "# Q94. Write a Python program to get all combinations of 2 tuples."
   ]
  },
  {
   "cell_type": "code",
   "execution_count": 66,
   "metadata": {},
   "outputs": [
    {
     "name": "stdout",
     "output_type": "stream",
     "text": [
      "[('a', 1), ('a', 2), ('a', 3), ('b', 1), ('b', 2), ('b', 3)]\n"
     ]
    }
   ],
   "source": [
    "import itertools\n",
    "\n",
    "def get_combinations(t1, t2):\n",
    "    combinations = list(itertools.product(t1, t2))\n",
    "    return combinations\n",
    "\n",
    "\n",
    "tuple1 = ('a', 'b')\n",
    "tuple2 = (1, 2, 3)\n",
    "result = get_combinations(tuple1, tuple2)\n",
    "print(result)"
   ]
  },
  {
   "cell_type": "markdown",
   "metadata": {},
   "source": [
    "# Q95. Write a Python program to sort a list of tuples by second item."
   ]
  },
  {
   "cell_type": "code",
   "execution_count": 67,
   "metadata": {},
   "outputs": [
    {
     "name": "stdout",
     "output_type": "stream",
     "text": [
      "[(3, 'a'), (2, 'b'), (1, 'c')]\n"
     ]
    }
   ],
   "source": [
    "def sort_list_by_second_item(tuple_list):\n",
    "    sorted_list = sorted(tuple_list, key=lambda x: x[1])\n",
    "    return sorted_list\n",
    "\n",
    "\n",
    "input_list = [(2, 'b'), (3, 'a'), (1, 'c')]\n",
    "result = sort_list_by_second_item(input_list)\n",
    "print(result)"
   ]
  },
  {
   "cell_type": "markdown",
   "metadata": {},
   "source": [
    "# Q96. Write a python program to print below pattern."
   ]
  },
  {
   "cell_type": "code",
   "execution_count": 68,
   "metadata": {},
   "outputs": [],
   "source": [
    "def print_pattern(rows):\n",
    "    for i in range(1, rows + 1):\n",
    "        for j in range(i):\n",
    "            print(\"*\", end=\" \")\n",
    "        print()"
   ]
  },
  {
   "cell_type": "code",
   "execution_count": 69,
   "metadata": {},
   "outputs": [
    {
     "name": "stdout",
     "output_type": "stream",
     "text": [
      "* \n",
      "* * \n",
      "* * * \n",
      "* * * * \n",
      "* * * * * \n"
     ]
    }
   ],
   "source": [
    "print_pattern(5)"
   ]
  },
  {
   "cell_type": "code",
   "execution_count": 70,
   "metadata": {},
   "outputs": [
    {
     "name": "stdout",
     "output_type": "stream",
     "text": [
      "    *\n",
      "   **\n",
      "  ***\n",
      " ****\n",
      "*****\n"
     ]
    }
   ],
   "source": [
    "def print_pattern(rows):\n",
    "    for i in range(1, rows + 1):\n",
    "        spaces = \" \" * (rows - i)\n",
    "        stars = \"*\" * i\n",
    "        print(spaces + stars)\n",
    "\n",
    "\n",
    "rows = 5\n",
    "print_pattern(rows)"
   ]
  },
  {
   "cell_type": "code",
   "execution_count": 71,
   "metadata": {},
   "outputs": [
    {
     "name": "stdout",
     "output_type": "stream",
     "text": [
      "    * \n",
      "   * * \n",
      "  * * * \n",
      " * * * * \n",
      "* * * * * \n"
     ]
    }
   ],
   "source": [
    "def print_pattern(rows):\n",
    "    for i in range(1, rows + 1):\n",
    "        spaces = \" \" * (rows - i)\n",
    "        stars = \"* \" * i\n",
    "        print(spaces + stars)\n",
    "\n",
    "\n",
    "rows = 5\n",
    "print_pattern(rows)"
   ]
  },
  {
   "cell_type": "code",
   "execution_count": 72,
   "metadata": {},
   "outputs": [
    {
     "name": "stdout",
     "output_type": "stream",
     "text": [
      "1 \n",
      "1 2 \n",
      "1 2 3 \n",
      "1 2 3 4 \n",
      "1 2 3 4 5 \n"
     ]
    }
   ],
   "source": [
    "def print_pattern(rows):\n",
    "    for i in range(1, rows + 1):\n",
    "        for j in range(1, i + 1):\n",
    "            print(j, end=\" \")\n",
    "        print()\n",
    "\n",
    "\n",
    "rows = 5\n",
    "print_pattern(rows)"
   ]
  },
  {
   "cell_type": "code",
   "execution_count": 73,
   "metadata": {},
   "outputs": [
    {
     "name": "stdout",
     "output_type": "stream",
     "text": [
      "A \n",
      "B B \n",
      "C C C \n",
      "D D D D \n",
      "E E E E E \n"
     ]
    }
   ],
   "source": [
    "def print_pattern(rows):\n",
    "    for i in range(rows):\n",
    "        letter = chr(65 + i)  \n",
    "        for j in range(i + 1):\n",
    "            print(letter, end=\" \")\n",
    "        print()\n",
    "\n",
    "\n",
    "rows = 5\n",
    "print_pattern(rows)"
   ]
  },
  {
   "cell_type": "code",
   "execution_count": null,
   "metadata": {},
   "outputs": [],
   "source": []
  }
 ],
 "metadata": {
  "kernelspec": {
   "display_name": "Python 3",
   "language": "python",
   "name": "python3"
  },
  "language_info": {
   "codemirror_mode": {
    "name": "ipython",
    "version": 3
   },
   "file_extension": ".py",
   "mimetype": "text/x-python",
   "name": "python",
   "nbconvert_exporter": "python",
   "pygments_lexer": "ipython3",
   "version": "3.7.6"
  }
 },
 "nbformat": 4,
 "nbformat_minor": 4
}
